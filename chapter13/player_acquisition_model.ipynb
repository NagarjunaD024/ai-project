{
 "cells": [
  {
   "cell_type": "markdown",
   "id": "49d06aa7",
   "metadata": {},
   "source": [
    "# Player Acquisition Models\n",
    "*This notebook is used to train a machine learning model using scikit-learn and save it in ONNX format.*"
   ]
  },
  {
   "cell_type": "markdown",
   "id": "be241b64",
   "metadata": {},
   "source": [
    "## Library imports"
   ]
  },
  {
   "cell_type": "code",
   "execution_count": null,
   "id": "93f1cab3",
   "metadata": {
    "vscode": {
     "languageId": "plaintext"
    }
   },
   "outputs": [],
   "source": [
    "import logging\n",
    "import numpy as np\n",
    "import pandas as pd\n",
    "from sklearn.model_selection import train_test_split\n",
    "from sklearn.ensemble import GradientBoostingRegressor\n",
    "\n",
    "from skl2onnx import to_onnx\n",
    "import onnxruntime as rt"
   ]
  },
  {
   "cell_type": "markdown",
   "id": "9fd1e011",
   "metadata": {},
   "source": [
    "## Configure logging"
   ]
  },
  {
   "cell_type": "code",
   "execution_count": null,
   "id": "1fc4d814",
   "metadata": {
    "vscode": {
     "languageId": "plaintext"
    }
   },
   "outputs": [],
   "source": [
    "for handler in logging.root.handlers[:]:\n",
    "    logging.root.removeHandler(handler)\n",
    "\n",
    "logging.basicConfig(\n",
    "    filename='player_acquisition_notebook.log',  \n",
    "    level=logging.INFO,\n",
    ")"
   ]
  },
  {
   "cell_type": "markdown",
   "id": "cde3dc91",
   "metadata": {},
   "source": [
    "## Load data"
   ]
  },
  {
   "cell_type": "code",
   "execution_count": null,
   "id": "17a60006",
   "metadata": {
    "vscode": {
     "languageId": "plaintext"
    }
   },
   "outputs": [],
   "source": [
    "dataset=pd.read_csv(\"player_training_data_full.csv\")"
   ]
  },
  {
   "cell_type": "markdown",
   "id": "a8343d9b",
   "metadata": {},
   "source": [
    "## Prepare and split data"
   ]
  },
  {
   "cell_type": "code",
   "execution_count": null,
   "id": "3863a4cb",
   "metadata": {
    "vscode": {
     "languageId": "plaintext"
    }
   },
   "outputs": [],
   "source": [
    "X = dataset[['waiver_value_tier','fantasy_regular_season_weeks_remaining',\n",
    "             'league_budget_pct_remaining']]\n",
    "y = dataset['winning_bid_dollars']\n",
    "X_train, X_test, y_train, y_test = train_test_split(X,\n",
    "                                                    y, \n",
    "                                                    test_size = 0.20, \n",
    "                                                    random_state = 0)"
   ]
  }
 ],
 "metadata": {
  "language_info": {
   "name": "python"
  }
 },
 "nbformat": 4,
 "nbformat_minor": 5
}
